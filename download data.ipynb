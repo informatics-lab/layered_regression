{
 "cells": [
  {
   "cell_type": "code",
   "execution_count": 1,
   "metadata": {
    "collapsed": true
   },
   "outputs": [],
   "source": [
    "import iris\n",
    "import os\n",
    "import numpy as np\n",
    "from matplotlib import pyplot as plt\n",
    "\n",
    "iris.FUTURE.netcdf_promote = True\n",
    "%matplotlib inline"
   ]
  },
  {
   "cell_type": "code",
   "execution_count": 2,
   "metadata": {
    "collapsed": true
   },
   "outputs": [],
   "source": [
    "def list_mogreps_uk(folder, years, months, days, hours, fcsts):\n",
    "    fs = ['prods_op_mogreps-uk_{:04d}{:02d}{:02d}_{:02d}_00_{:03d}.nc'.format(year, month, day, hour, fcst)\n",
    "            for year in years for month in months for day in days for hour in hours for fcst in fcsts]\n",
    "    fs = [os.path.join(folder,f) for f in fs]\n",
    "    return fs\n",
    "\n",
    "class PrecipUpscaleDataset():\n",
    "    def __init__(self, filenames, scale_factor, lat_idx, lon_idx):\n",
    "        filenames.sort()\n",
    "        self.filenames = filenames\n",
    "        self.scale_factor = scale_factor\n",
    "        self.lat_idx = lat_idx\n",
    "        self.lon_idx = lon_idx\n",
    "\n",
    "    def __len__(self):\n",
    "        return len(self.filenames)\n",
    "\n",
    "    def __getitem__(self, idx):\n",
    "        precip = iris.load(self.filenames[idx], \n",
    "                           'low_type_cloud_area_fraction')[0][0]\n",
    "        \n",
    "        low_res = np.add.reduceat(np.add.reduceat(precip.data, \n",
    "                                                  list(range(0, precip.data.shape[0], self.scale_factor))),\n",
    "                                  list(range(0, precip.data.shape[1], self.scale_factor)), \n",
    "                                  axis=1) / self.scale_factor ** 2\n",
    "        \n",
    "        low_res_hr = low_res.repeat(self.scale_factor, 0).repeat(self.scale_factor, 1)\n",
    "        val = low_res_hr[self.lat_idx][self.lon_idx]\n",
    "\n",
    "        return val, precip[self.lat_idx][self.lon_idx].data.item()\n",
    "    \n",
    "\n",
    "class PrecipQuartilesDataset():\n",
    "    def __init__(self, filenames, lat_idx, lon_idx):\n",
    "        filenames.sort()\n",
    "        self.filenames = filenames\n",
    "        self.lat_idx = lat_idx\n",
    "        self.lon_idx = lon_idx\n",
    "\n",
    "    def __len__(self):\n",
    "        return len(self.filenames)\n",
    "\n",
    "    def __getitem__(self, idx):\n",
    "        precip = iris.load(self.filenames[idx], \n",
    "                           'low_type_cloud_area_fraction')[0][0]\n",
    "        \n",
    "        quarts = np.add.reduceat(\n",
    "                    np.add.reduceat(precip.data, [0, precip.data.shape[0] * 0.5]),\n",
    "                    [0, precip.data.shape[1] * 0.5], \n",
    "                    axis=1)\n",
    "        quarts = quarts / (precip.shape[0] * precip.shape[1] * 0.25)\n",
    "\n",
    "        return quarts.flatten(), precip[self.lat_idx][self.lon_idx].data\n",
    "    \n",
    "    \n",
    "class PrecipZoomoutDataset():\n",
    "    def __init__(self, filenames):\n",
    "        filenames.sort()\n",
    "        self.filenames = filenames\n",
    "\n",
    "    def __len__(self):\n",
    "        return len(self.filenames)\n",
    "\n",
    "    def __getitem__(self, idx):\n",
    "        precip = iris.load(self.filenames[idx], \n",
    "                           'low_type_cloud_area_fraction')[0][0]\n",
    "        precip = precip[-480:, :384]\n",
    "        \n",
    "        lrs = []\n",
    "        for scale_factor in [8,16,24,32,48]:\n",
    "            low_res = np.add.reduceat(np.add.reduceat(precip.data, \n",
    "                                                      list(range(0, precip.data.shape[0], scale_factor))),\n",
    "                                      list(range(0, precip.data.shape[1], scale_factor)), \n",
    "                                      axis=1) / scale_factor ** 2\n",
    "\n",
    "            low_res_hr = low_res.repeat(scale_factor, 0).repeat(scale_factor, 1)\n",
    "            val = low_res_hr\n",
    "            lrs.append(val)\n",
    "\n",
    "        return np.array(lrs + [precip.data])\n",
    "    \n",
    "    \n",
    "class ArrayZoomoutDataset():\n",
    "    def __init__(self, array, scale_factors=[8,16,24,32,48], subset=(slice(-480, None), slice(0,384))):\n",
    "        self.array = array\n",
    "        self.scale_factors = scale_factors\n",
    "        self.subset = subset\n",
    "\n",
    "    def __len__(self):\n",
    "        return len(self.array)\n",
    "\n",
    "    def __getitem__(self, idx):\n",
    "        array = self.array[idx][self.subset]\n",
    "        \n",
    "        lrs = []\n",
    "        for scale_factor in self.scale_factors:\n",
    "            low_res = np.add.reduceat(np.add.reduceat(array, \n",
    "                                                      list(range(0, array.shape[0], scale_factor))),\n",
    "                                      list(range(0, array.shape[1], scale_factor)), \n",
    "                                      axis=1) / scale_factor ** 2\n",
    "\n",
    "            low_res_hr = low_res.repeat(scale_factor, 0).repeat(scale_factor, 1)\n",
    "            val = low_res_hr\n",
    "            lrs.append(val)\n",
    "\n",
    "        return np.array(lrs)\n",
    "    \n",
    "    \n",
    "class CloudDataset():\n",
    "    def __init__(self, filenames):\n",
    "        filenames.sort()\n",
    "        self.filenames = filenames\n",
    "\n",
    "    def __len__(self):\n",
    "        return len(self.filenames)\n",
    "\n",
    "    def __getitem__(self, idx):\n",
    "        cube = iris.load(self.filenames[idx], \n",
    "                           'low_type_cloud_area_fraction')[0][0]\n",
    "\n",
    "        return cube.data\n",
    "    \n",
    "    \n",
    "class PrecipOffsetsDataset():\n",
    "    def __init__(self, filenames):\n",
    "        filenames.sort()\n",
    "        self.filenames = filenames\n",
    "\n",
    "    def __len__(self):\n",
    "        return len(self.filenames)\n",
    "\n",
    "    def __getitem__(self, idx):\n",
    "        try:\n",
    "            precip = iris.load(self.filenames[idx], \n",
    "                               'low_type_cloud_area_fraction')[0][0]\n",
    "            precip = precip[-540:, :420]\n",
    "\n",
    "            lrs = []\n",
    "            scale_factor = 8\n",
    "            low_res = np.add.reduceat(np.add.reduceat(precip.data, \n",
    "                                                      list(range(0, precip.data.shape[0], scale_factor))),\n",
    "                                      list(range(0, precip.data.shape[1], scale_factor)), \n",
    "                                      axis=1) / scale_factor ** 2\n",
    "\n",
    "            offsets = [\n",
    "                low_res,\n",
    "                np.concatenate([np.zeros([1, low_res[1:].shape[1]]), low_res[1:]]),\n",
    "                np.concatenate([low_res[:-1], np.zeros([1, low_res[:-1].shape[1]])]),\n",
    "                np.concatenate([np.zeros([low_res[:,1:].shape[0], 1]), low_res[:,1:]], axis=1),\n",
    "                np.concatenate([low_res[:,:-1], np.zeros([low_res[:,:-1].shape[0], 1])], axis=1)\n",
    "            ]\n",
    "\n",
    "            for offset in offsets:\n",
    "                low_res_hr = offset.repeat(scale_factor, 0).repeat(scale_factor, 1)\n",
    "                val = low_res_hr\n",
    "                lrs.append(val)\n",
    "\n",
    "            return np.array(lrs + [precip.data])\n",
    "        except:\n",
    "            return self.__getitem__(np.random.randint(0, len(self.filenames)))"
   ]
  },
  {
   "cell_type": "code",
   "execution_count": 5,
   "metadata": {
    "collapsed": true
   },
   "outputs": [],
   "source": [
    "c = CloudDataset(list_mogreps_uk('/home/ubuntu/sss/mogreps-uk', \n",
    "                                             [2016], \n",
    "                                             [5,6,7,8,9,10], \n",
    "                                             list(range(1,22)),\n",
    "                                             [3,9,15,21],\n",
    "                                             [3]))"
   ]
  },
  {
   "cell_type": "code",
   "execution_count": 6,
   "metadata": {
    "collapsed": true
   },
   "outputs": [],
   "source": [
    "ct = CloudDataset(list_mogreps_uk('/home/ubuntu/sss/mogreps-uk', \n",
    "                                             [2016], \n",
    "                                             [5,6,7,8,9,10], \n",
    "                                             list(range(24,29)),\n",
    "                                             [3,9,15,21],\n",
    "                                             [3]))"
   ]
  },
  {
   "cell_type": "code",
   "execution_count": 7,
   "metadata": {
    "collapsed": true
   },
   "outputs": [],
   "source": [
    "from sklearn.linear_model import LinearRegression\n",
    "from sklearn.ensemble import RandomForestRegressor"
   ]
  },
  {
   "cell_type": "code",
   "execution_count": 8,
   "metadata": {},
   "outputs": [
    {
     "name": "stdout",
     "output_type": "stream",
     "text": [
      "CPU times: user 2min 57s, sys: 1.7 s, total: 2min 59s\n",
      "Wall time: 20min 34s\n"
     ]
    }
   ],
   "source": [
    "%%time\n",
    "inp = list(c)\n",
    "inp_array = np.stack(inp)"
   ]
  },
  {
   "cell_type": "code",
   "execution_count": 9,
   "metadata": {},
   "outputs": [
    {
     "name": "stdout",
     "output_type": "stream",
     "text": [
      "CPU times: user 42.5 s, sys: 380 ms, total: 42.9 s\n",
      "Wall time: 4min 48s\n"
     ]
    }
   ],
   "source": [
    "%%time\n",
    "inpt = list(ct)\n",
    "inpt_array = np.stack(inpt)"
   ]
  },
  {
   "cell_type": "code",
   "execution_count": 10,
   "metadata": {
    "collapsed": true
   },
   "outputs": [],
   "source": [
    "np.savez_compressed('data/cloud_data', data=inp_array, test=inpt_array)"
   ]
  }
 ],
 "metadata": {
  "kernelspec": {
   "display_name": "Python 3",
   "language": "python",
   "name": "python3"
  },
  "language_info": {
   "codemirror_mode": {
    "name": "ipython",
    "version": 3
   },
   "file_extension": ".py",
   "mimetype": "text/x-python",
   "name": "python",
   "nbconvert_exporter": "python",
   "pygments_lexer": "ipython3",
   "version": "3.6.3"
  }
 },
 "nbformat": 4,
 "nbformat_minor": 2
}
